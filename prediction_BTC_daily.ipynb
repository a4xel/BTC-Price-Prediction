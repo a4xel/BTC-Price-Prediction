{
 "cells": [
  {
   "cell_type": "markdown",
   "metadata": {},
   "source": [
    "# Machine Learning Model with Voting Classifier\n",
    "\n",
    "#### We present here a simple Machine Learning model to predict the direction of the BTC price in the next day.\n",
    "#### This model, although very simple, suggests the possibility of making better predictions than a 50% baseline (the response variable being binary)."
   ]
  },
  {
   "cell_type": "code",
   "execution_count": 1,
   "metadata": {},
   "outputs": [],
   "source": [
    "# Array manipulations\n",
    "import numpy as np\n",
    "\n",
    "# Dataframe and its manipulations\n",
    "import pandas as pd\n",
    "\n",
    "# Indicators from talib\n",
    "import talib\n",
    "\n",
    "# Plotting\n",
    "import seaborn as sns\n",
    "import matplotlib.pyplot as plt\n",
    "\n",
    "# Function for splitting data and evaluating models\n",
    "from sklearn.model_selection import train_test_split\n",
    "\n",
    "# Normalization\n",
    "from sklearn.preprocessing import MinMaxScaler\n",
    "\n",
    "# Models library\n",
    "from sklearn.neighbors import KNeighborsClassifier\n",
    "from sklearn.ensemble import VotingClassifier\n",
    "from sklearn.ensemble import GradientBoostingClassifier, RandomForestClassifier\n",
    "\n",
    "# Confusion matrix and classification\n",
    "from sklearn.metrics import confusion_matrix\n",
    "from sklearn.metrics import classification_report\n",
    "\n",
    "# Ignore warning\n",
    "import warnings  # to ignore warnings messages\n",
    "warnings.filterwarnings('ignore')"
   ]
  },
  {
   "cell_type": "code",
   "execution_count": 2,
   "metadata": {},
   "outputs": [
    {
     "data": {
      "text/html": [
       "<div>\n",
       "<style scoped>\n",
       "    .dataframe tbody tr th:only-of-type {\n",
       "        vertical-align: middle;\n",
       "    }\n",
       "\n",
       "    .dataframe tbody tr th {\n",
       "        vertical-align: top;\n",
       "    }\n",
       "\n",
       "    .dataframe thead th {\n",
       "        text-align: right;\n",
       "    }\n",
       "</style>\n",
       "<table border=\"1\" class=\"dataframe\">\n",
       "  <thead>\n",
       "    <tr style=\"text-align: right;\">\n",
       "      <th></th>\n",
       "      <th>Close</th>\n",
       "      <th>High</th>\n",
       "      <th>Low</th>\n",
       "      <th>Volume</th>\n",
       "      <th>Open</th>\n",
       "      <th>score_max</th>\n",
       "      <th>v_neg_max</th>\n",
       "      <th>v_pos_max</th>\n",
       "      <th>t_pol_max</th>\n",
       "      <th>t_sub_max</th>\n",
       "      <th>date_count</th>\n",
       "      <th>v_neg_std</th>\n",
       "      <th>v_pos_std</th>\n",
       "      <th>t_pol_std</th>\n",
       "      <th>t_sub_std</th>\n",
       "    </tr>\n",
       "    <tr>\n",
       "      <th>Date</th>\n",
       "      <th></th>\n",
       "      <th></th>\n",
       "      <th></th>\n",
       "      <th></th>\n",
       "      <th></th>\n",
       "      <th></th>\n",
       "      <th></th>\n",
       "      <th></th>\n",
       "      <th></th>\n",
       "      <th></th>\n",
       "      <th></th>\n",
       "      <th></th>\n",
       "      <th></th>\n",
       "      <th></th>\n",
       "      <th></th>\n",
       "    </tr>\n",
       "  </thead>\n",
       "  <tbody>\n",
       "    <tr>\n",
       "      <th>2016-01-01</th>\n",
       "      <td>434.334015</td>\n",
       "      <td>436.246002</td>\n",
       "      <td>427.515015</td>\n",
       "      <td>36278900.0</td>\n",
       "      <td>430.721008</td>\n",
       "      <td>NaN</td>\n",
       "      <td>NaN</td>\n",
       "      <td>NaN</td>\n",
       "      <td>NaN</td>\n",
       "      <td>NaN</td>\n",
       "      <td>NaN</td>\n",
       "      <td>NaN</td>\n",
       "      <td>NaN</td>\n",
       "      <td>NaN</td>\n",
       "      <td>NaN</td>\n",
       "    </tr>\n",
       "    <tr>\n",
       "      <th>2016-01-02</th>\n",
       "      <td>433.437988</td>\n",
       "      <td>436.062012</td>\n",
       "      <td>431.869995</td>\n",
       "      <td>30096600.0</td>\n",
       "      <td>434.622009</td>\n",
       "      <td>NaN</td>\n",
       "      <td>NaN</td>\n",
       "      <td>NaN</td>\n",
       "      <td>NaN</td>\n",
       "      <td>NaN</td>\n",
       "      <td>NaN</td>\n",
       "      <td>NaN</td>\n",
       "      <td>NaN</td>\n",
       "      <td>NaN</td>\n",
       "      <td>NaN</td>\n",
       "    </tr>\n",
       "    <tr>\n",
       "      <th>2016-01-03</th>\n",
       "      <td>430.010986</td>\n",
       "      <td>433.743011</td>\n",
       "      <td>424.705994</td>\n",
       "      <td>39633800.0</td>\n",
       "      <td>433.578003</td>\n",
       "      <td>NaN</td>\n",
       "      <td>NaN</td>\n",
       "      <td>NaN</td>\n",
       "      <td>NaN</td>\n",
       "      <td>NaN</td>\n",
       "      <td>NaN</td>\n",
       "      <td>NaN</td>\n",
       "      <td>NaN</td>\n",
       "      <td>NaN</td>\n",
       "      <td>NaN</td>\n",
       "    </tr>\n",
       "    <tr>\n",
       "      <th>2016-01-04</th>\n",
       "      <td>433.091003</td>\n",
       "      <td>434.516998</td>\n",
       "      <td>429.084015</td>\n",
       "      <td>38477500.0</td>\n",
       "      <td>430.061005</td>\n",
       "      <td>NaN</td>\n",
       "      <td>NaN</td>\n",
       "      <td>NaN</td>\n",
       "      <td>NaN</td>\n",
       "      <td>NaN</td>\n",
       "      <td>NaN</td>\n",
       "      <td>NaN</td>\n",
       "      <td>NaN</td>\n",
       "      <td>NaN</td>\n",
       "      <td>NaN</td>\n",
       "    </tr>\n",
       "    <tr>\n",
       "      <th>2016-01-05</th>\n",
       "      <td>431.959991</td>\n",
       "      <td>434.182007</td>\n",
       "      <td>429.675995</td>\n",
       "      <td>34522600.0</td>\n",
       "      <td>433.069000</td>\n",
       "      <td>NaN</td>\n",
       "      <td>NaN</td>\n",
       "      <td>NaN</td>\n",
       "      <td>NaN</td>\n",
       "      <td>NaN</td>\n",
       "      <td>NaN</td>\n",
       "      <td>NaN</td>\n",
       "      <td>NaN</td>\n",
       "      <td>NaN</td>\n",
       "      <td>NaN</td>\n",
       "    </tr>\n",
       "  </tbody>\n",
       "</table>\n",
       "</div>"
      ],
      "text/plain": [
       "                 Close        High         Low      Volume        Open  \\\n",
       "Date                                                                     \n",
       "2016-01-01  434.334015  436.246002  427.515015  36278900.0  430.721008   \n",
       "2016-01-02  433.437988  436.062012  431.869995  30096600.0  434.622009   \n",
       "2016-01-03  430.010986  433.743011  424.705994  39633800.0  433.578003   \n",
       "2016-01-04  433.091003  434.516998  429.084015  38477500.0  430.061005   \n",
       "2016-01-05  431.959991  434.182007  429.675995  34522600.0  433.069000   \n",
       "\n",
       "            score_max  v_neg_max  v_pos_max  t_pol_max  t_sub_max  date_count  \\\n",
       "Date                                                                            \n",
       "2016-01-01        NaN        NaN        NaN        NaN        NaN         NaN   \n",
       "2016-01-02        NaN        NaN        NaN        NaN        NaN         NaN   \n",
       "2016-01-03        NaN        NaN        NaN        NaN        NaN         NaN   \n",
       "2016-01-04        NaN        NaN        NaN        NaN        NaN         NaN   \n",
       "2016-01-05        NaN        NaN        NaN        NaN        NaN         NaN   \n",
       "\n",
       "            v_neg_std  v_pos_std  t_pol_std  t_sub_std  \n",
       "Date                                                    \n",
       "2016-01-01        NaN        NaN        NaN        NaN  \n",
       "2016-01-02        NaN        NaN        NaN        NaN  \n",
       "2016-01-03        NaN        NaN        NaN        NaN  \n",
       "2016-01-04        NaN        NaN        NaN        NaN  \n",
       "2016-01-05        NaN        NaN        NaN        NaN  "
      ]
     },
     "execution_count": 2,
     "metadata": {},
     "output_type": "execute_result"
    }
   ],
   "source": [
    "# NLP data set\n",
    "dataframe = pd.read_csv(\n",
    "    '../nlp_btc.csv'\n",
    ")  # load the data set with nlp indicators inside\n",
    "dataframe.set_index('Date', drop=True, inplace=True)  # Date as index\n",
    "dataframe.head()"
   ]
  },
  {
   "cell_type": "code",
   "execution_count": 3,
   "metadata": {},
   "outputs": [],
   "source": [
    "# Use indicators from Talib\n",
    "\n",
    "# Choose timeperiod\n",
    "timeperiod = 14\n",
    "\n",
    "# Add RSI : information on over buying and over selling\n",
    "dataframe['RSI'] = talib.RSI(dataframe.Close, timeperiod=timeperiod)\n",
    "\n",
    "# Add EMA99\n",
    "dataframe['EMA99'] = talib.EMA(dataframe.Close, timeperiod=99)\n",
    "\n",
    "# Add Stochastic\n",
    "dataframe['slowk'], dataframe['slowd'] = talib.STOCH(dataframe.High,\n",
    "                                                     dataframe.Low,\n",
    "                                                     dataframe.Close,\n",
    "                                                     fastk_period=5,\n",
    "                                                     slowk_period=3,\n",
    "                                                     slowk_matype=0,\n",
    "                                                     slowd_period=3,\n",
    "                                                     slowd_matype=0)"
   ]
  },
  {
   "cell_type": "markdown",
   "metadata": {},
   "source": [
    "### Prepare the data"
   ]
  },
  {
   "cell_type": "code",
   "execution_count": 4,
   "metadata": {},
   "outputs": [],
   "source": [
    "# Use data from '2017-01-01' to '2019-12-30' because of the NLP indicators\n",
    "dataframe = dataframe.iloc[366:]\n",
    "\n",
    "# Create the target\n",
    "df_transit = dataframe[:-1]\n",
    "df_transit['target'] = dataframe['Close'][1:].values\n",
    "dataframe = df_transit\n",
    "\n",
    "# Select variables => NLP and technical analysis\n",
    "dataframe = dataframe[[\n",
    "    'target', 'Close', 'RSI', 'EMA99', 'score_max', 'v_neg_max', 'v_pos_max',\n",
    "    't_pol_max', 't_sub_max', 'date_count', 'v_neg_std', 'v_pos_std',\n",
    "    't_pol_std', 't_sub_std', 'slowk', 'slowd'\n",
    "]]\n",
    "\n",
    "# Convert the target to binary response\n",
    "def classification_target(target, last_target):\n",
    "    if target > last_target:\n",
    "        return 1\n",
    "    else:\n",
    "        return 0\n",
    "\n",
    "# Apply to the column\n",
    "dataframe['target'] = dataframe.apply(\n",
    "    lambda row: classification_target(row['target'], row['Close']), axis=1)"
   ]
  },
  {
   "cell_type": "markdown",
   "metadata": {},
   "source": [
    "### Normalization"
   ]
  },
  {
   "cell_type": "code",
   "execution_count": 5,
   "metadata": {},
   "outputs": [],
   "source": [
    "# Data normalization\n",
    "\n",
    "# Create array\n",
    "x_values = dataframe.values\n",
    "\n",
    "# Scaler\n",
    "scaler = MinMaxScaler(feature_range=(0, 1)).fit(\n",
    "    x_values)  # data normalization between 0 and 1 and training\n",
    "x_scaled = scaler.transform(x_values)  # transform our data X\n",
    "\n",
    "# To dataframe\n",
    "dataframe = pd.DataFrame(x_scaled, columns=dataframe.columns)\n",
    "\n",
    "# Drop Close\n",
    "dataframe = dataframe.drop(columns='Close')"
   ]
  },
  {
   "cell_type": "markdown",
   "metadata": {},
   "source": [
    "### Split the data to train and test set"
   ]
  },
  {
   "cell_type": "code",
   "execution_count": 6,
   "metadata": {},
   "outputs": [],
   "source": [
    "# Split to train and test set\n",
    "X_train, X_test, y_train, y_test = train_test_split(\n",
    "    dataframe.iloc[:, 1:],\n",
    "    dataframe.iloc[:, :1],\n",
    "    test_size=0.2, # 20% of test\n",
    "    random_state=122,\n",
    "    stratify=dataframe.iloc[:, :1])"
   ]
  },
  {
   "cell_type": "markdown",
   "metadata": {},
   "source": [
    "### Create a Voting Classifier model"
   ]
  },
  {
   "cell_type": "code",
   "execution_count": 7,
   "metadata": {},
   "outputs": [
    {
     "name": "stdout",
     "output_type": "stream",
     "text": [
      "VotingClassifier score : 0.6621004566210046\n"
     ]
    }
   ],
   "source": [
    "# KNN model\n",
    "model_knn = KNeighborsClassifier(n_neighbors=15)\n",
    "\n",
    "# Randomforest model\n",
    "model_Rforest = RandomForestClassifier(max_depth=100,\n",
    "                                 min_samples_leaf=20,\n",
    "                                 random_state=0)\n",
    "\n",
    "# GradientBoosting model\n",
    "model_Gradb = GradientBoostingClassifier(random_state=0)\n",
    "\n",
    "# Voting model\n",
    "model_voting = VotingClassifier([('KNN', model_knn),\n",
    "                                 ('Rforest', model_Rforest),\n",
    "                                 ('Gradb', model_Gradb)],\n",
    "                                voting='soft')\n",
    "\n",
    "# Fit the model\n",
    "model_voting.fit(X_train, y_train)\n",
    "\n",
    "# Look the score on the test set\n",
    "print(f'{model_voting.__class__.__name__} score : {model_voting.score(X_test, y_test)}')"
   ]
  },
  {
   "cell_type": "markdown",
   "metadata": {},
   "source": [
    "### Confusion matrix and metrics"
   ]
  },
  {
   "cell_type": "code",
   "execution_count": 8,
   "metadata": {},
   "outputs": [
    {
     "name": "stdout",
     "output_type": "stream",
     "text": [
      "              precision    recall  f1-score   support\n",
      "\n",
      "         0.0       0.68      0.49      0.57       100\n",
      "         1.0       0.65      0.81      0.72       119\n",
      "\n",
      "    accuracy                           0.66       219\n",
      "   macro avg       0.67      0.65      0.65       219\n",
      "weighted avg       0.67      0.66      0.65       219\n",
      "\n"
     ]
    },
    {
     "data": {
      "text/plain": [
       "Text(0.5, 24.0, 'Predicted label')"
      ]
     },
     "execution_count": 8,
     "metadata": {},
     "output_type": "execute_result"
    },
    {
     "data": {
      "image/png": "[encoded data removed]",
      "text/plain": [
       "<Figure size 360x360 with 2 Axes>"
      ]
     },
     "metadata": {
      "needs_background": "light"
     },
     "output_type": "display_data"
    }
   ],
   "source": [
    "# Confusion matrix\n",
    "y_pred_proba = model_voting.predict(X_test)\n",
    "y_pred_binary = np.where(y_pred_proba > 0.5, 1, 0)\n",
    "cm = confusion_matrix(y_test, y_pred_binary)\n",
    "print(classification_report(y_test, y_pred_binary))\n",
    "\n",
    "# Plot\n",
    "plt.figure(figsize=(5, 5))\n",
    "sns.heatmap(cm, annot=True, fmt=\"d\")\n",
    "plt.title('Confusion matrix')\n",
    "plt.ylabel('Actual label')\n",
    "plt.xlabel('Predicted label')"
   ]
  },
  {
   "cell_type": "markdown",
   "metadata": {},
   "source": [
    "#### Note: Training and test data were only taken from 2017 to 2019 due to the market sentiment variables (NLP) produced only during this period."
   ]
  }
 ],
 "metadata": {
  "interpreter": {
   "hash": "03373d9753d820ee76a570ade786d8eb6e888af08bd4880d60dc99b06e9468c4"
  },
  "kernelspec": {
   "display_name": "Python 3.8.13 64-bit ('project_nlp_technical')",
   "language": "python",
   "name": "python3"
  },
  "language_info": {
   "codemirror_mode": {
    "name": "ipython",
    "version": 3
   },
   "file_extension": ".py",
   "mimetype": "text/x-python",
   "name": "python",
   "nbconvert_exporter": "python",
   "pygments_lexer": "ipython3",
   "version": "3.8.13"
  },
  "orig_nbformat": 4
 },
 "nbformat": 4,
 "nbformat_minor": 2
}
